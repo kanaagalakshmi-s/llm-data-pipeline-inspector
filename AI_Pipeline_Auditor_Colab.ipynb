{
  "cells": [
    {
      "cell_type": "markdown",
      "metadata": {},
      "source": [
        "# \ud83e\udde0 AI-Powered Data Pipeline Auditor (Colab Edition)\n",
        "This notebook lets you analyze Azure Data Factory pipeline JSONs using an open-source LLM (TinyLlama or similar).\n",
        "\n",
        "\ud83d\udc49 Upload a pipeline JSON and get intelligent architecture feedback using an LLM.\n"
      ]
    },
    {
      "cell_type": "code",
      "execution_count": null,
      "metadata": {},
      "outputs": [],
      "source": [
        "# Step 1: Install required libraries\n",
        "!pip install transformers accelerate"
      ]
    },
    {
      "cell_type": "code",
      "execution_count": null,
      "metadata": {},
      "outputs": [],
      "source": [
        "# Step 2: Load a lightweight LLM from HuggingFace\n",
        "from transformers import pipeline\n",
        "llm = pipeline(\"text-generation\", model=\"TinyLlama/TinyLlama-1.1B-Chat-v1.0\")"
      ]
    },
    {
      "cell_type": "code",
      "execution_count": null,
      "metadata": {},
      "outputs": [],
      "source": [
        "# Step 3: Upload your ADF pipeline JSON\n",
        "from google.colab import files\n",
        "import json\n",
        "\n",
        "uploaded = files.upload()\n",
        "file_path = list(uploaded.keys())[0]\n",
        "\n",
        "with open(file_path) as f:\n",
        "    data = json.load(f)\n",
        "\n",
        "def parse_adf_pipeline(data):\n",
        "    activities = [a['name'] for a in data['properties'].get('activities', [])]\n",
        "    return {\n",
        "        'name': data.get('name', 'Unknown Pipeline'),\n",
        "        'activities': activities,\n",
        "        'triggers': data['properties'].get('triggers', []),\n",
        "        'linked_services': data['properties'].get('linkedServices', [])\n",
        "    }\n",
        "\n",
        "parsed_data = parse_adf_pipeline(data)\n",
        "parsed_data"
      ]
    },
    {
      "cell_type": "code",
      "execution_count": null,
      "metadata": {},
      "outputs": [],
      "source": [
        "# Step 4: Prompt the LLM for analysis\n",
        "prompt = f'''\n",
        "You are a cloud data engineer. Analyze this Azure Data Factory pipeline:\n",
        "\n",
        "{json.dumps(parsed_data, indent=2)}\n",
        "\n",
        "1. Describe what the pipeline is doing.\n",
        "2. Identify performance bottlenecks or risks.\n",
        "3. Recommend optimization (e.g., concurrency, data partitioning).\n",
        "4. Rate overall design on a scale of 1 to 10.\n",
        "\n",
        "Respond clearly with bullet points.\n",
        "'''\n",
        "\n",
        "response = llm(prompt, max_new_tokens=300, do_sample=True)[0][\"generated_text\"]\n",
        "print(response)"
      ]
    }
  ],
  "metadata": {
    "kernelspec": {
      "display_name": "Python 3",
      "language": "python",
      "name": "python3"
    },
    "language_info": {
      "name": "python",
      "version": "3.x"
    }
  },
  "nbformat": 4,
  "nbformat_minor": 5
}